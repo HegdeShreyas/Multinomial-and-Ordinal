{
 "cells": [
  {
   "cell_type": "code",
   "execution_count": 1,
   "id": "7624ea38",
   "metadata": {},
   "outputs": [],
   "source": [
    "import numpy as np\n",
    "import pandas as pd\n",
    "import scipy.stats as stats\n",
    "import matplotlib.pyplot as plt\n",
    "import random\n",
    "import math\n",
    "import seaborn as sns\n",
    "import sklearn\n",
    "from sklearn.model_selection import train_test_split\n",
    "from sklearn.linear_model import LinearRegression\n",
    "from sklearn.linear_model import Ridge,RidgeCV,Lasso\n",
    "from sklearn.preprocessing import StandardScaler\n",
    "from sklearn.datasets import fetch_california_housing\n",
    "from sklearn.linear_model import ElasticNet\n",
    "from sklearn.metrics import mean_squared_error,r2_score\n",
    "import statsmodels.api as sm\n",
    "%matplotlib inline\n",
    "from sklearn.linear_model import LogisticRegression\n",
    "from sklearn import metrics\n",
    "from sklearn.metrics import confusion_matrix\n",
    "from sklearn.metrics import classification_report\n",
    "from sklearn.preprocessing import LabelEncoder\n",
    "from sklearn.metrics import accuracy_score"
   ]
  },
  {
   "cell_type": "code",
   "execution_count": 2,
   "id": "8b1889a7",
   "metadata": {},
   "outputs": [],
   "source": [
    "abalone=pd.read_csv(r\"C:\\Users\\hegde\\Downloads\\abalone.csv\")"
   ]
  },
  {
   "cell_type": "code",
   "execution_count": 3,
   "id": "483995f6",
   "metadata": {},
   "outputs": [
    {
     "data": {
      "text/html": [
       "<div>\n",
       "<style scoped>\n",
       "    .dataframe tbody tr th:only-of-type {\n",
       "        vertical-align: middle;\n",
       "    }\n",
       "\n",
       "    .dataframe tbody tr th {\n",
       "        vertical-align: top;\n",
       "    }\n",
       "\n",
       "    .dataframe thead th {\n",
       "        text-align: right;\n",
       "    }\n",
       "</style>\n",
       "<table border=\"1\" class=\"dataframe\">\n",
       "  <thead>\n",
       "    <tr style=\"text-align: right;\">\n",
       "      <th></th>\n",
       "      <th>Sex</th>\n",
       "      <th>Length</th>\n",
       "      <th>Diameter</th>\n",
       "      <th>Height</th>\n",
       "      <th>Whole weight</th>\n",
       "      <th>Shucked weight</th>\n",
       "      <th>Viscera weight</th>\n",
       "      <th>Shell weight</th>\n",
       "      <th>Rings</th>\n",
       "    </tr>\n",
       "  </thead>\n",
       "  <tbody>\n",
       "    <tr>\n",
       "      <th>0</th>\n",
       "      <td>M</td>\n",
       "      <td>0.455</td>\n",
       "      <td>0.365</td>\n",
       "      <td>0.095</td>\n",
       "      <td>0.5140</td>\n",
       "      <td>0.2245</td>\n",
       "      <td>0.1010</td>\n",
       "      <td>0.150</td>\n",
       "      <td>15</td>\n",
       "    </tr>\n",
       "    <tr>\n",
       "      <th>1</th>\n",
       "      <td>M</td>\n",
       "      <td>0.350</td>\n",
       "      <td>0.265</td>\n",
       "      <td>0.090</td>\n",
       "      <td>0.2255</td>\n",
       "      <td>0.0995</td>\n",
       "      <td>0.0485</td>\n",
       "      <td>0.070</td>\n",
       "      <td>7</td>\n",
       "    </tr>\n",
       "    <tr>\n",
       "      <th>2</th>\n",
       "      <td>F</td>\n",
       "      <td>0.530</td>\n",
       "      <td>0.420</td>\n",
       "      <td>0.135</td>\n",
       "      <td>0.6770</td>\n",
       "      <td>0.2565</td>\n",
       "      <td>0.1415</td>\n",
       "      <td>0.210</td>\n",
       "      <td>9</td>\n",
       "    </tr>\n",
       "    <tr>\n",
       "      <th>3</th>\n",
       "      <td>M</td>\n",
       "      <td>0.440</td>\n",
       "      <td>0.365</td>\n",
       "      <td>0.125</td>\n",
       "      <td>0.5160</td>\n",
       "      <td>0.2155</td>\n",
       "      <td>0.1140</td>\n",
       "      <td>0.155</td>\n",
       "      <td>10</td>\n",
       "    </tr>\n",
       "    <tr>\n",
       "      <th>4</th>\n",
       "      <td>I</td>\n",
       "      <td>0.330</td>\n",
       "      <td>0.255</td>\n",
       "      <td>0.080</td>\n",
       "      <td>0.2050</td>\n",
       "      <td>0.0895</td>\n",
       "      <td>0.0395</td>\n",
       "      <td>0.055</td>\n",
       "      <td>7</td>\n",
       "    </tr>\n",
       "  </tbody>\n",
       "</table>\n",
       "</div>"
      ],
      "text/plain": [
       "  Sex  Length  Diameter  Height  Whole weight  Shucked weight  Viscera weight  \\\n",
       "0   M   0.455     0.365   0.095        0.5140          0.2245          0.1010   \n",
       "1   M   0.350     0.265   0.090        0.2255          0.0995          0.0485   \n",
       "2   F   0.530     0.420   0.135        0.6770          0.2565          0.1415   \n",
       "3   M   0.440     0.365   0.125        0.5160          0.2155          0.1140   \n",
       "4   I   0.330     0.255   0.080        0.2050          0.0895          0.0395   \n",
       "\n",
       "   Shell weight  Rings  \n",
       "0         0.150     15  \n",
       "1         0.070      7  \n",
       "2         0.210      9  \n",
       "3         0.155     10  \n",
       "4         0.055      7  "
      ]
     },
     "execution_count": 3,
     "metadata": {},
     "output_type": "execute_result"
    }
   ],
   "source": [
    "abalone.head()"
   ]
  },
  {
   "cell_type": "code",
   "execution_count": 4,
   "id": "f1108f42",
   "metadata": {},
   "outputs": [
    {
     "name": "stdout",
     "output_type": "stream",
     "text": [
      "<class 'pandas.core.frame.DataFrame'>\n",
      "RangeIndex: 4177 entries, 0 to 4176\n",
      "Data columns (total 9 columns):\n",
      " #   Column          Non-Null Count  Dtype  \n",
      "---  ------          --------------  -----  \n",
      " 0   Sex             4177 non-null   object \n",
      " 1   Length          4177 non-null   float64\n",
      " 2   Diameter        4177 non-null   float64\n",
      " 3   Height          4177 non-null   float64\n",
      " 4   Whole weight    4177 non-null   float64\n",
      " 5   Shucked weight  4177 non-null   float64\n",
      " 6   Viscera weight  4177 non-null   float64\n",
      " 7   Shell weight    4177 non-null   float64\n",
      " 8   Rings           4177 non-null   int64  \n",
      "dtypes: float64(7), int64(1), object(1)\n",
      "memory usage: 293.8+ KB\n"
     ]
    }
   ],
   "source": [
    "abalone.info()"
   ]
  },
  {
   "cell_type": "code",
   "execution_count": 5,
   "id": "f53bc24e",
   "metadata": {},
   "outputs": [
    {
     "data": {
      "text/plain": [
       "M    1528\n",
       "I    1342\n",
       "F    1307\n",
       "Name: Sex, dtype: int64"
      ]
     },
     "execution_count": 5,
     "metadata": {},
     "output_type": "execute_result"
    }
   ],
   "source": [
    "abalone['Sex'].value_counts()"
   ]
  },
  {
   "cell_type": "code",
   "execution_count": 6,
   "id": "ed223c7a",
   "metadata": {},
   "outputs": [
    {
     "name": "stdout",
     "output_type": "stream",
     "text": [
      "['Length', 'Diameter', 'Height', 'Whole weight', 'Shucked weight', 'Viscera weight', 'Shell weight', 'Rings']\n",
      "(3341, 8)\n",
      "(836, 8)\n",
      "(3341,)\n",
      "(836,)\n"
     ]
    }
   ],
   "source": [
    "X=abalone.drop(['Sex'],axis=1)\n",
    "y=abalone['Sex']\n",
    "\n",
    "print(list(X.columns.values))\n",
    "\n",
    "X_train,X_test,y_train,y_test=sklearn.model_selection.train_test_split(X,y,test_size=0.20,random_state=5)\n",
    "\n",
    "print(X_train.shape)\n",
    "print(X_test.shape)\n",
    "print(y_train.shape)\n",
    "print(y_test.shape)"
   ]
  },
  {
   "cell_type": "code",
   "execution_count": 7,
   "id": "e9fbb5f8",
   "metadata": {},
   "outputs": [
    {
     "name": "stdout",
     "output_type": "stream",
     "text": [
      "{'C': 1.0, 'class_weight': None, 'dual': False, 'fit_intercept': True, 'intercept_scaling': 1, 'l1_ratio': None, 'max_iter': 100, 'multi_class': 'multinomial', 'n_jobs': None, 'penalty': None, 'random_state': 0, 'solver': 'newton-cg', 'tol': 0.0001, 'verbose': 0, 'warm_start': False}\n"
     ]
    }
   ],
   "source": [
    "model=LogisticRegression(random_state=0,multi_class='multinomial',penalty=None,solver='newton-cg').fit(X_train,y_train)\n",
    "preds=model.predict(X_test)\n",
    "\n",
    "params=model.get_params()\n",
    "print(params)"
   ]
  },
  {
   "cell_type": "code",
   "execution_count": 8,
   "id": "28fd4eac",
   "metadata": {},
   "outputs": [
    {
     "name": "stdout",
     "output_type": "stream",
     "text": [
      "Intercept: \n",
      " [-1.78722136  1.04125722  0.74596414]\n",
      "Coefficients: \n",
      " [[-6.1458923   6.60723393  3.92928106  1.87256063 -2.66889263  5.98940549\n",
      "  -1.50629263  0.06142566]\n",
      " [12.17937143 -6.83031144 -5.45082401 -4.22195633  2.79756071 -8.49328028\n",
      "   3.09531813 -0.12236135]\n",
      " [-6.03347913  0.22307751  1.52154295  2.34939571 -0.12866808  2.50387479\n",
      "  -1.5890255   0.06093569]]\n"
     ]
    }
   ],
   "source": [
    "#print model parameters\n",
    "print('Intercept: \\n',model.intercept_)\n",
    "print('Coefficients: \\n',model.coef_)"
   ]
  },
  {
   "cell_type": "code",
   "execution_count": 9,
   "id": "751da50c",
   "metadata": {},
   "outputs": [
    {
     "data": {
      "text/plain": [
       "array([[2.14226350e-03, 7.40432100e+02, 5.08703917e+01, 6.50493179e+00,\n",
       "        6.93289559e-02, 3.99177225e+02, 2.21730493e-01, 1.06335145e+00],\n",
       "       [1.94730423e+05, 1.08052155e-03, 4.29276594e-03, 1.46699171e-02,\n",
       "        1.64045824e+01, 2.04840224e-04, 2.20942662e+01, 8.84828574e-01],\n",
       "       [2.39713948e-03, 1.24991745e+00, 4.57928537e+00, 1.04792353e+01,\n",
       "        8.79265761e-01, 1.22297901e+01, 2.04124435e-01, 1.06283056e+00]])"
      ]
     },
     "execution_count": 9,
     "metadata": {},
     "output_type": "execute_result"
    }
   ],
   "source": [
    "#calculate odds ratio estimates\n",
    "np.exp(model.coef_)"
   ]
  },
  {
   "cell_type": "code",
   "execution_count": 10,
   "id": "6d10a5f5",
   "metadata": {},
   "outputs": [
    {
     "name": "stdout",
     "output_type": "stream",
     "text": [
      "Optimization terminated successfully.\n",
      "         Current function value: 0.850662\n",
      "         Iterations 8\n",
      "                          MNLogit Regression Results                          \n",
      "==============================================================================\n",
      "Dep. Variable:                    Sex   No. Observations:                 3341\n",
      "Model:                        MNLogit   Df Residuals:                     3323\n",
      "Method:                           MLE   Df Model:                           16\n",
      "Date:                Thu, 26 Oct 2023   Pseudo R-squ.:                  0.2239\n",
      "Time:                        12:35:58   Log-Likelihood:                -2842.1\n",
      "converged:                       True   LL-Null:                       -3662.2\n",
      "Covariance Type:            nonrobust   LLR p-value:                     0.000\n",
      "==================================================================================\n",
      "         Sex=I       coef    std err          z      P>|z|      [0.025      0.975]\n",
      "----------------------------------------------------------------------------------\n",
      "const              2.8285      0.569      4.968      0.000       1.713       3.944\n",
      "Length            18.3254      3.142      5.832      0.000      12.167      24.484\n",
      "Diameter         -13.4377      3.870     -3.472      0.001     -21.023      -5.852\n",
      "Height            -9.3798      3.754     -2.498      0.012     -16.738      -2.021\n",
      "Whole weight      -6.0946      1.973     -3.090      0.002      -9.961      -2.228\n",
      "Shucked weight     5.4665      2.238      2.443      0.015       1.081       9.852\n",
      "Viscera weight   -14.4827      2.981     -4.858      0.000     -20.325      -8.640\n",
      "Shell weight       4.6017      2.874      1.601      0.109      -1.031      10.234\n",
      "Rings             -0.1838      0.030     -6.183      0.000      -0.242      -0.126\n",
      "----------------------------------------------------------------------------------\n",
      "         Sex=M       coef    std err          z      P>|z|      [0.025      0.975]\n",
      "----------------------------------------------------------------------------------\n",
      "const              2.5332      0.484      5.236      0.000       1.585       3.481\n",
      "Length             0.1124      2.133      0.053      0.958      -4.069       4.294\n",
      "Diameter          -6.3842      2.574     -2.480      0.013     -11.429      -1.339\n",
      "Height            -2.4078      1.852     -1.300      0.194      -6.038       1.222\n",
      "Whole weight       0.4768      0.817      0.584      0.559      -1.124       2.078\n",
      "Shucked weight     2.5402      0.974      2.608      0.009       0.631       4.449\n",
      "Viscera weight    -3.4855      1.443     -2.415      0.016      -6.314      -0.657\n",
      "Shell weight      -0.0827      1.285     -0.064      0.949      -2.601       2.436\n",
      "Rings             -0.0005      0.018     -0.028      0.978      -0.035       0.034\n",
      "==================================================================================\n",
      "                        Results: MNLogit\n",
      "================================================================\n",
      "Model:              MNLogit          Pseudo R-squared: 0.224    \n",
      "Dependent Variable: Sex              AIC:              5720.1255\n",
      "Date:               2023-10-26 12:35 BIC:              5830.1779\n",
      "No. Observations:   3341             Log-Likelihood:   -2842.1  \n",
      "Df Model:           16               LL-Null:          -3662.2  \n",
      "Df Residuals:       3323             LLR p-value:      0.0000   \n",
      "Converged:          1.0000           Scale:            1.0000   \n",
      "No. Iterations:     8.0000                                      \n",
      "----------------------------------------------------------------\n",
      "   Sex = 0      Coef.   Std.Err.    t    P>|t|   [0.025   0.975]\n",
      "----------------------------------------------------------------\n",
      "         const   2.8285   0.5693  4.9680 0.0000   1.7126  3.9444\n",
      "        Length  18.3254   3.1420  5.8323 0.0000  12.1671 24.4837\n",
      "      Diameter -13.4377   3.8703 -3.4720 0.0005 -21.0234 -5.8521\n",
      "        Height  -9.3798   3.7544 -2.4984 0.0125 -16.7383 -2.0213\n",
      "  Whole weight  -6.0946   1.9726 -3.0897 0.0020  -9.9607 -2.2284\n",
      "Shucked weight   5.4665   2.2378  2.4428 0.0146   1.0805  9.8525\n",
      "Viscera weight -14.4827   2.9809 -4.8584 0.0000 -20.3252 -8.6401\n",
      "  Shell weight   4.6017   2.8737  1.6013 0.1093  -1.0307 10.2340\n",
      "         Rings  -0.1838   0.0297 -6.1826 0.0000  -0.2421 -0.1255\n",
      "----------------------------------------------------------------\n",
      "    Sex = 1      Coef.  Std.Err.    t    P>|t|   [0.025   0.975]\n",
      "----------------------------------------------------------------\n",
      "         const   2.5332   0.4838  5.2361 0.0000   1.5850  3.4814\n",
      "        Length   0.1124   2.1332  0.0527 0.9580  -4.0686  4.2935\n",
      "      Diameter  -6.3842   2.5740 -2.4802 0.0131 -11.4292 -1.3392\n",
      "        Height  -2.4078   1.8521 -1.3000 0.1936  -6.0378  1.2222\n",
      "  Whole weight   0.4768   0.8170  0.5836 0.5595  -1.1245  2.0782\n",
      "Shucked weight   2.5402   0.9739  2.6082 0.0091   0.6314  4.4491\n",
      "Viscera weight  -3.4855   1.4432 -2.4152 0.0157  -6.3141 -0.6570\n",
      "  Shell weight  -0.0827   1.2850 -0.0644 0.9487  -2.6012  2.4357\n",
      "         Rings  -0.0005   0.0178 -0.0276 0.9780  -0.0353  0.0344\n",
      "================================================================\n",
      "\n"
     ]
    }
   ],
   "source": [
    "#use statsmodel to access variables\n",
    "logit_model=sm.MNLogit(y_train,sm.add_constant(X_train))\n",
    "logit_model\n",
    "result=logit_model.fit()\n",
    "stats1=result.summary()\n",
    "stats2=result.summary2()\n",
    "print(stats1)\n",
    "print(stats2)"
   ]
  },
  {
   "cell_type": "code",
   "execution_count": 11,
   "id": "3233f731",
   "metadata": {},
   "outputs": [
    {
     "data": {
      "text/html": [
       "<div>\n",
       "<style scoped>\n",
       "    .dataframe tbody tr th:only-of-type {\n",
       "        vertical-align: middle;\n",
       "    }\n",
       "\n",
       "    .dataframe tbody tr th {\n",
       "        vertical-align: top;\n",
       "    }\n",
       "\n",
       "    .dataframe thead th {\n",
       "        text-align: right;\n",
       "    }\n",
       "</style>\n",
       "<table border=\"1\" class=\"dataframe\">\n",
       "  <thead>\n",
       "    <tr style=\"text-align: right;\">\n",
       "      <th></th>\n",
       "      <th>predicted_Female</th>\n",
       "      <th>predicted_Infant</th>\n",
       "      <th>predicted_Male</th>\n",
       "    </tr>\n",
       "  </thead>\n",
       "  <tbody>\n",
       "    <tr>\n",
       "      <th>Female</th>\n",
       "      <td>88</td>\n",
       "      <td>44</td>\n",
       "      <td>138</td>\n",
       "    </tr>\n",
       "    <tr>\n",
       "      <th>Infant</th>\n",
       "      <td>15</td>\n",
       "      <td>210</td>\n",
       "      <td>35</td>\n",
       "    </tr>\n",
       "    <tr>\n",
       "      <th>Male</th>\n",
       "      <td>79</td>\n",
       "      <td>66</td>\n",
       "      <td>161</td>\n",
       "    </tr>\n",
       "  </tbody>\n",
       "</table>\n",
       "</div>"
      ],
      "text/plain": [
       "        predicted_Female  predicted_Infant  predicted_Male\n",
       "Female                88                44             138\n",
       "Infant                15               210              35\n",
       "Male                  79                66             161"
      ]
     },
     "execution_count": 11,
     "metadata": {},
     "output_type": "execute_result"
    }
   ],
   "source": [
    "#create a confusion matrix y_test as first arguement and the pred second arguement\n",
    "confusion_matrix(y_test,preds)\n",
    "\n",
    "\n",
    "confmtrx=np.array(confusion_matrix(y_test,preds))\n",
    "\n",
    "pd.DataFrame(confmtrx,index=['Female','Infant','Male'],\n",
    "            columns=['predicted_Female','predicted_Infant','predicted_Male'])"
   ]
  },
  {
   "cell_type": "code",
   "execution_count": 12,
   "id": "4427cb7f",
   "metadata": {},
   "outputs": [
    {
     "name": "stdout",
     "output_type": "stream",
     "text": [
      "Accuracy Score:  0.5490430622009569\n",
      "              precision    recall  f1-score   support\n",
      "\n",
      "           F       0.48      0.33      0.39       270\n",
      "           I       0.66      0.81      0.72       260\n",
      "           M       0.48      0.53      0.50       306\n",
      "\n",
      "    accuracy                           0.55       836\n",
      "   macro avg       0.54      0.55      0.54       836\n",
      "weighted avg       0.54      0.55      0.54       836\n",
      "\n"
     ]
    }
   ],
   "source": [
    "#accuracy statistics\n",
    "print('Accuracy Score: ',metrics.accuracy_score(y_test,preds))\n",
    "\n",
    "#create classificastion\\\n",
    "class_report=classification_report(y_test,preds)\n",
    "print(class_report)"
   ]
  },
  {
   "cell_type": "raw",
   "id": "a764cc44",
   "metadata": {},
   "source": [
    "Task1:load the iris datasets by using seaborn library and fit multinomial logistic regresion model"
   ]
  },
  {
   "cell_type": "code",
   "execution_count": 13,
   "id": "55aff82f",
   "metadata": {},
   "outputs": [
    {
     "name": "stdout",
     "output_type": "stream",
     "text": [
      "   sepal_length  sepal_width  petal_length  petal_width species\n",
      "0           5.1          3.5           1.4          0.2  setosa\n",
      "1           4.9          3.0           1.4          0.2  setosa\n",
      "2           4.7          3.2           1.3          0.2  setosa\n",
      "3           4.6          3.1           1.5          0.2  setosa\n",
      "4           5.0          3.6           1.4          0.2  setosa\n"
     ]
    }
   ],
   "source": [
    "iris = sns.load_dataset('iris')\n",
    "print(iris.head())"
   ]
  },
  {
   "cell_type": "code",
   "execution_count": 14,
   "id": "6990345c",
   "metadata": {},
   "outputs": [
    {
     "name": "stdout",
     "output_type": "stream",
     "text": [
      "<class 'pandas.core.frame.DataFrame'>\n",
      "RangeIndex: 150 entries, 0 to 149\n",
      "Data columns (total 5 columns):\n",
      " #   Column        Non-Null Count  Dtype  \n",
      "---  ------        --------------  -----  \n",
      " 0   sepal_length  150 non-null    float64\n",
      " 1   sepal_width   150 non-null    float64\n",
      " 2   petal_length  150 non-null    float64\n",
      " 3   petal_width   150 non-null    float64\n",
      " 4   species       150 non-null    object \n",
      "dtypes: float64(4), object(1)\n",
      "memory usage: 6.0+ KB\n"
     ]
    }
   ],
   "source": [
    "iris.info()"
   ]
  },
  {
   "cell_type": "code",
   "execution_count": 15,
   "id": "d0b332f2",
   "metadata": {},
   "outputs": [
    {
     "data": {
      "text/plain": [
       "setosa        50\n",
       "versicolor    50\n",
       "virginica     50\n",
       "Name: species, dtype: int64"
      ]
     },
     "execution_count": 15,
     "metadata": {},
     "output_type": "execute_result"
    }
   ],
   "source": [
    "iris['species'].value_counts()"
   ]
  },
  {
   "cell_type": "code",
   "execution_count": 16,
   "id": "21ddbbcf",
   "metadata": {},
   "outputs": [
    {
     "name": "stdout",
     "output_type": "stream",
     "text": [
      "['Length', 'Diameter', 'Height', 'Whole weight', 'Shucked weight', 'Viscera weight', 'Shell weight', 'Rings']\n",
      "(3341, 8)\n",
      "(836, 8)\n",
      "(3341,)\n",
      "(836,)\n"
     ]
    }
   ],
   "source": [
    "print(list(X.columns.values))\n",
    "\n",
    "X_train,X_test,y_train,y_test=sklearn.model_selection.train_test_split(X,y,test_size=0.20,random_state=5)\n",
    "\n",
    "print(X_train.shape)\n",
    "print(X_test.shape)\n",
    "print(y_train.shape)\n",
    "print(y_test.shape)"
   ]
  },
  {
   "cell_type": "code",
   "execution_count": 17,
   "id": "8759009d",
   "metadata": {},
   "outputs": [],
   "source": [
    "X = iris.drop('species', axis=1)\n",
    "y = iris['species']"
   ]
  },
  {
   "cell_type": "code",
   "execution_count": 18,
   "id": "799dd461",
   "metadata": {},
   "outputs": [],
   "source": [
    "X_train, X_test, y_train, y_test = train_test_split(X, y, test_size=0.2, random_state=42)"
   ]
  },
  {
   "cell_type": "code",
   "execution_count": 19,
   "id": "c262b38a",
   "metadata": {},
   "outputs": [
    {
     "name": "stderr",
     "output_type": "stream",
     "text": [
      "C:\\ProgramData\\anaconda3\\Lib\\site-packages\\sklearn\\linear_model\\_logistic.py:458: ConvergenceWarning: lbfgs failed to converge (status=1):\n",
      "STOP: TOTAL NO. of ITERATIONS REACHED LIMIT.\n",
      "\n",
      "Increase the number of iterations (max_iter) or scale the data as shown in:\n",
      "    https://scikit-learn.org/stable/modules/preprocessing.html\n",
      "Please also refer to the documentation for alternative solver options:\n",
      "    https://scikit-learn.org/stable/modules/linear_model.html#logistic-regression\n",
      "  n_iter_i = _check_optimize_result(\n"
     ]
    }
   ],
   "source": [
    "model1 = LogisticRegression(multi_class=\"multinomial\", solver=\"lbfgs\").fit(X_train, y_train)"
   ]
  },
  {
   "cell_type": "code",
   "execution_count": 20,
   "id": "3a5bbc08",
   "metadata": {},
   "outputs": [
    {
     "name": "stdout",
     "output_type": "stream",
     "text": [
      "{'C': 1.0, 'class_weight': None, 'dual': False, 'fit_intercept': True, 'intercept_scaling': 1, 'l1_ratio': None, 'max_iter': 100, 'multi_class': 'multinomial', 'n_jobs': None, 'penalty': 'l2', 'random_state': None, 'solver': 'lbfgs', 'tol': 0.0001, 'verbose': 0, 'warm_start': False}\n"
     ]
    }
   ],
   "source": [
    "predictions = model1.predict(X_test)\n",
    "\n",
    "params=model1.get_params()\n",
    "print(params)"
   ]
  },
  {
   "cell_type": "code",
   "execution_count": 21,
   "id": "ce093b4f",
   "metadata": {},
   "outputs": [
    {
     "name": "stdout",
     "output_type": "stream",
     "text": [
      "Intercept: \n",
      " [  9.0320304   1.8407217 -10.8727521]\n",
      "Coefficients: \n",
      " [[-0.39704054  0.96067569 -2.37415262 -1.00301553]\n",
      " [ 0.51252767 -0.25277734 -0.21506448 -0.76948326]\n",
      " [-0.11548712 -0.70789835  2.5892171   1.77249879]]\n"
     ]
    }
   ],
   "source": [
    "print('Intercept: \\n',model1.intercept_)\n",
    "print('Coefficients: \\n',model1.coef_)"
   ]
  },
  {
   "cell_type": "code",
   "execution_count": 22,
   "id": "95832c1d",
   "metadata": {},
   "outputs": [
    {
     "data": {
      "text/plain": [
       "array([[ 0.67230677,  2.61346177,  0.09309334,  0.36677176],\n",
       "       [ 1.66950582,  0.77664079,  0.80648944,  0.46325239],\n",
       "       [ 0.89093204,  0.49267855, 13.31933976,  5.88554175]])"
      ]
     },
     "execution_count": 22,
     "metadata": {},
     "output_type": "execute_result"
    }
   ],
   "source": [
    "np.exp(model1.coef_)"
   ]
  },
  {
   "cell_type": "code",
   "execution_count": 23,
   "id": "2dbbb634",
   "metadata": {},
   "outputs": [
    {
     "name": "stdout",
     "output_type": "stream",
     "text": [
      "Optimization terminated successfully.\n",
      "         Current function value: nan\n",
      "         Iterations 19\n",
      "                          MNLogit Regression Results                          \n",
      "==============================================================================\n",
      "Dep. Variable:                species   No. Observations:                  120\n",
      "Model:                        MNLogit   Df Residuals:                      110\n",
      "Method:                           MLE   Df Model:                            8\n",
      "Date:                Thu, 26 Oct 2023   Pseudo R-squ.:                     nan\n",
      "Time:                        12:35:59   Log-Likelihood:                    nan\n",
      "converged:                       True   LL-Null:                       -131.81\n",
      "Covariance Type:            nonrobust   LLR p-value:                       nan\n",
      "=====================================================================================\n",
      "species=versicolor       coef    std err          z      P>|z|      [0.025      0.975]\n",
      "--------------------------------------------------------------------------------------\n",
      "const                     nan        nan        nan        nan         nan         nan\n",
      "sepal_length              nan        nan        nan        nan         nan         nan\n",
      "sepal_width               nan        nan        nan        nan         nan         nan\n",
      "petal_length              nan        nan        nan        nan         nan         nan\n",
      "petal_width               nan        nan        nan        nan         nan         nan\n",
      "--------------------------------------------------------------------------------------\n",
      "species=virginica       coef    std err          z      P>|z|      [0.025      0.975]\n",
      "-------------------------------------------------------------------------------------\n",
      "const                    nan        nan        nan        nan         nan         nan\n",
      "sepal_length             nan        nan        nan        nan         nan         nan\n",
      "sepal_width              nan        nan        nan        nan         nan         nan\n",
      "petal_length             nan        nan        nan        nan         nan         nan\n",
      "petal_width              nan        nan        nan        nan         nan         nan\n",
      "=====================================================================================\n",
      "                       Results: MNLogit\n",
      "==============================================================\n",
      "Model:              MNLogit          Pseudo R-squared: nan    \n",
      "Dependent Variable: species          AIC:              nan    \n",
      "Date:               2023-10-26 12:35 BIC:              nan    \n",
      "No. Observations:   120              Log-Likelihood:   nan    \n",
      "Df Model:           8                LL-Null:          -131.81\n",
      "Df Residuals:       110              LLR p-value:      nan    \n",
      "Converged:          1.0000           Scale:            1.0000 \n",
      "No. Iterations:     19.0000                                   \n",
      "--------------------------------------------------------------\n",
      "   species = 0     Coef.  Std.Err.   t   P>|t|  [0.025  0.975]\n",
      "--------------------------------------------------------------\n",
      "       const         nan       nan  nan    nan     nan     nan\n",
      "sepal_length         nan       nan  nan    nan     nan     nan\n",
      " sepal_width         nan       nan  nan    nan     nan     nan\n",
      "petal_length         nan       nan  nan    nan     nan     nan\n",
      " petal_width         nan       nan  nan    nan     nan     nan\n",
      "--------------------------------------------------------------\n",
      "   species = 1     Coef.  Std.Err.   t   P>|t|  [0.025  0.975]\n",
      "--------------------------------------------------------------\n",
      "       const         nan       nan  nan    nan     nan     nan\n",
      "sepal_length         nan       nan  nan    nan     nan     nan\n",
      " sepal_width         nan       nan  nan    nan     nan     nan\n",
      "petal_length         nan       nan  nan    nan     nan     nan\n",
      " petal_width         nan       nan  nan    nan     nan     nan\n",
      "==============================================================\n",
      "\n"
     ]
    },
    {
     "name": "stderr",
     "output_type": "stream",
     "text": [
      "C:\\ProgramData\\anaconda3\\Lib\\site-packages\\statsmodels\\discrete\\discrete_model.py:2299: RuntimeWarning: overflow encountered in exp\n",
      "  eXB = np.column_stack((np.ones(len(X)), np.exp(X)))\n",
      "C:\\ProgramData\\anaconda3\\Lib\\site-packages\\statsmodels\\discrete\\discrete_model.py:2300: RuntimeWarning: invalid value encountered in divide\n",
      "  return eXB/eXB.sum(1)[:,None]\n"
     ]
    }
   ],
   "source": [
    "logit_model=sm.MNLogit(y_train,sm.add_constant(X_train))\n",
    "logit_model\n",
    "result=logit_model.fit()\n",
    "stats1=result.summary()\n",
    "stats2=result.summary2()\n",
    "print(stats1)\n",
    "print(stats2)"
   ]
  },
  {
   "cell_type": "code",
   "execution_count": 24,
   "id": "11130912",
   "metadata": {},
   "outputs": [
    {
     "name": "stdout",
     "output_type": "stream",
     "text": [
      "Accuracy Score:  1.0\n",
      "              precision    recall  f1-score   support\n",
      "\n",
      "      setosa       1.00      1.00      1.00        10\n",
      "  versicolor       1.00      1.00      1.00         9\n",
      "   virginica       1.00      1.00      1.00        11\n",
      "\n",
      "    accuracy                           1.00        30\n",
      "   macro avg       1.00      1.00      1.00        30\n",
      "weighted avg       1.00      1.00      1.00        30\n",
      "\n"
     ]
    }
   ],
   "source": [
    "#accuracy statistics\n",
    "print('Accuracy Score: ',metrics.accuracy_score(y_test,predictions))\n",
    "\n",
    "#create classificastion\\\n",
    "class_report=classification_report(y_test,predictions)\n",
    "print(class_report)"
   ]
  },
  {
   "cell_type": "markdown",
   "id": "fbe3231c",
   "metadata": {},
   "source": [
    "# ordinal logistic regression"
   ]
  },
  {
   "cell_type": "code",
   "execution_count": 25,
   "id": "2953108e",
   "metadata": {},
   "outputs": [
    {
     "data": {
      "text/html": [
       "<div>\n",
       "<style scoped>\n",
       "    .dataframe tbody tr th:only-of-type {\n",
       "        vertical-align: middle;\n",
       "    }\n",
       "\n",
       "    .dataframe tbody tr th {\n",
       "        vertical-align: top;\n",
       "    }\n",
       "\n",
       "    .dataframe thead th {\n",
       "        text-align: right;\n",
       "    }\n",
       "</style>\n",
       "<table border=\"1\" class=\"dataframe\">\n",
       "  <thead>\n",
       "    <tr style=\"text-align: right;\">\n",
       "      <th></th>\n",
       "      <th>carat</th>\n",
       "      <th>cut</th>\n",
       "      <th>color</th>\n",
       "      <th>clarity</th>\n",
       "      <th>depth</th>\n",
       "      <th>table</th>\n",
       "      <th>price</th>\n",
       "      <th>x</th>\n",
       "      <th>y</th>\n",
       "      <th>z</th>\n",
       "    </tr>\n",
       "  </thead>\n",
       "  <tbody>\n",
       "    <tr>\n",
       "      <th>0</th>\n",
       "      <td>0.23</td>\n",
       "      <td>Ideal</td>\n",
       "      <td>E</td>\n",
       "      <td>SI2</td>\n",
       "      <td>61.5</td>\n",
       "      <td>55.0</td>\n",
       "      <td>326</td>\n",
       "      <td>3.95</td>\n",
       "      <td>3.98</td>\n",
       "      <td>2.43</td>\n",
       "    </tr>\n",
       "    <tr>\n",
       "      <th>1</th>\n",
       "      <td>0.21</td>\n",
       "      <td>Premium</td>\n",
       "      <td>E</td>\n",
       "      <td>SI1</td>\n",
       "      <td>59.8</td>\n",
       "      <td>61.0</td>\n",
       "      <td>326</td>\n",
       "      <td>3.89</td>\n",
       "      <td>3.84</td>\n",
       "      <td>2.31</td>\n",
       "    </tr>\n",
       "    <tr>\n",
       "      <th>2</th>\n",
       "      <td>0.23</td>\n",
       "      <td>Good</td>\n",
       "      <td>E</td>\n",
       "      <td>VS1</td>\n",
       "      <td>56.9</td>\n",
       "      <td>65.0</td>\n",
       "      <td>327</td>\n",
       "      <td>4.05</td>\n",
       "      <td>4.07</td>\n",
       "      <td>2.31</td>\n",
       "    </tr>\n",
       "    <tr>\n",
       "      <th>3</th>\n",
       "      <td>0.29</td>\n",
       "      <td>Premium</td>\n",
       "      <td>I</td>\n",
       "      <td>VS2</td>\n",
       "      <td>62.4</td>\n",
       "      <td>58.0</td>\n",
       "      <td>334</td>\n",
       "      <td>4.20</td>\n",
       "      <td>4.23</td>\n",
       "      <td>2.63</td>\n",
       "    </tr>\n",
       "    <tr>\n",
       "      <th>4</th>\n",
       "      <td>0.31</td>\n",
       "      <td>Good</td>\n",
       "      <td>J</td>\n",
       "      <td>SI2</td>\n",
       "      <td>63.3</td>\n",
       "      <td>58.0</td>\n",
       "      <td>335</td>\n",
       "      <td>4.34</td>\n",
       "      <td>4.35</td>\n",
       "      <td>2.75</td>\n",
       "    </tr>\n",
       "  </tbody>\n",
       "</table>\n",
       "</div>"
      ],
      "text/plain": [
       "   carat      cut color clarity  depth  table  price     x     y     z\n",
       "0   0.23    Ideal     E     SI2   61.5   55.0    326  3.95  3.98  2.43\n",
       "1   0.21  Premium     E     SI1   59.8   61.0    326  3.89  3.84  2.31\n",
       "2   0.23     Good     E     VS1   56.9   65.0    327  4.05  4.07  2.31\n",
       "3   0.29  Premium     I     VS2   62.4   58.0    334  4.20  4.23  2.63\n",
       "4   0.31     Good     J     SI2   63.3   58.0    335  4.34  4.35  2.75"
      ]
     },
     "execution_count": 25,
     "metadata": {},
     "output_type": "execute_result"
    }
   ],
   "source": [
    "diamond=pd.read_csv(r\"C:\\Users\\hegde\\Downloads\\diamonds.csv\")\n",
    "diamond.head()"
   ]
  },
  {
   "cell_type": "code",
   "execution_count": 26,
   "id": "6e9ad199",
   "metadata": {},
   "outputs": [
    {
     "data": {
      "text/plain": [
       "carat      float64\n",
       "cut         object\n",
       "color       object\n",
       "clarity     object\n",
       "depth      float64\n",
       "table      float64\n",
       "price        int64\n",
       "x          float64\n",
       "y          float64\n",
       "z          float64\n",
       "dtype: object"
      ]
     },
     "execution_count": 26,
     "metadata": {},
     "output_type": "execute_result"
    }
   ],
   "source": [
    "diamond.dtypes"
   ]
  },
  {
   "cell_type": "code",
   "execution_count": 27,
   "id": "3540881f",
   "metadata": {},
   "outputs": [
    {
     "name": "stdout",
     "output_type": "stream",
     "text": [
      "<class 'pandas.core.frame.DataFrame'>\n",
      "RangeIndex: 53940 entries, 0 to 53939\n",
      "Data columns (total 10 columns):\n",
      " #   Column   Non-Null Count  Dtype  \n",
      "---  ------   --------------  -----  \n",
      " 0   carat    53940 non-null  float64\n",
      " 1   cut      53940 non-null  object \n",
      " 2   color    53940 non-null  object \n",
      " 3   clarity  53940 non-null  object \n",
      " 4   depth    53940 non-null  float64\n",
      " 5   table    53940 non-null  float64\n",
      " 6   price    53940 non-null  int64  \n",
      " 7   x        53940 non-null  float64\n",
      " 8   y        53940 non-null  float64\n",
      " 9   z        53940 non-null  float64\n",
      "dtypes: float64(6), int64(1), object(3)\n",
      "memory usage: 4.1+ MB\n"
     ]
    }
   ],
   "source": [
    "diamond.info()"
   ]
  },
  {
   "cell_type": "code",
   "execution_count": 28,
   "id": "54a95a50",
   "metadata": {},
   "outputs": [
    {
     "data": {
      "text/plain": [
       "Ideal        21551\n",
       "Premium      13791\n",
       "Very Good    12082\n",
       "Good          4906\n",
       "Fair          1610\n",
       "Name: cut, dtype: int64"
      ]
     },
     "execution_count": 28,
     "metadata": {},
     "output_type": "execute_result"
    }
   ],
   "source": [
    "diamond['cut'].value_counts()"
   ]
  },
  {
   "cell_type": "code",
   "execution_count": 29,
   "id": "ef58cae0",
   "metadata": {},
   "outputs": [
    {
     "data": {
      "text/plain": [
       "CategoricalDtype(categories=['Fair', 'Good', 'Ideal', 'Very Good', 'Premium'], ordered=True)"
      ]
     },
     "execution_count": 29,
     "metadata": {},
     "output_type": "execute_result"
    }
   ],
   "source": [
    "from pandas.api.types import CategoricalDtype\n",
    "cat_type=CategoricalDtype(categories=['Fair','Good','Ideal','Very Good','Premium'],ordered=True)\n",
    "\n",
    "diamond['cut']=diamond['cut'].astype(cat_type)\n",
    "\n",
    "diamond['cut'].dtype"
   ]
  },
  {
   "cell_type": "code",
   "execution_count": 30,
   "id": "f031635a",
   "metadata": {},
   "outputs": [],
   "source": [
    "#now in the data,we have variables x,y and z that represent the width,hiegt and length of the diamond\n",
    "#by multiplying them we can calclulate the volume of the diamonds \n",
    "\n",
    "diamond['volume']=diamond['x']*diamond['y']*diamond['z']\n",
    "diamond.drop(['x','y','z'],axis=1,inplace=True)"
   ]
  },
  {
   "cell_type": "code",
   "execution_count": 31,
   "id": "55493ca6",
   "metadata": {},
   "outputs": [
    {
     "data": {
      "text/plain": [
       "Text(0.5, 1.0, 'Distribution by Volume')"
      ]
     },
     "execution_count": 31,
     "metadata": {},
     "output_type": "execute_result"
    },
    {
     "data": {
      "image/png": "[encoded data removed]",
      "text/plain": [
       "<Figure size 2400x2400 with 4 Axes>"
      ]
     },
     "metadata": {},
     "output_type": "display_data"
    }
   ],
   "source": [
    "#here we have multiplied  the colums ,x,y\n",
    "\n",
    "\n",
    "plt.figure(figsize=[24,24])\n",
    "\n",
    "plt.subplot(221)\n",
    "plt.hist(diamond['carat'],bins=20,color='b')\n",
    "plt.xlabel('weight')\n",
    "plt.title('Distribution by weight')\n",
    "\n",
    "plt.subplot(222)\n",
    "plt.hist(diamond['depth'],bins=20,color='r')\n",
    "plt.xlabel('Diamond Depth')\n",
    "plt.title('Distribution by depth')\n",
    "\n",
    "plt.subplot(223)\n",
    "plt.hist(diamond['price'],bins=20,color='g')\n",
    "plt.xlabel('price')\n",
    "plt.title('Distribution by price')\n",
    "\n",
    "plt.subplot(224)\n",
    "plt.hist(diamond['volume'],bins=20,color='m')\n",
    "plt.xlabel('Volume')\n",
    "plt.title('Distribution by Volume')"
   ]
  },
  {
   "cell_type": "code",
   "execution_count": 32,
   "id": "658d9093",
   "metadata": {},
   "outputs": [],
   "source": [
    "#ordered probit model\n",
    "\n",
    "from statsmodels.miscmodels.ordinal_model import OrderedModel\n",
    "mod_prob=OrderedModel(diamond['cut'],\n",
    "                     diamond[['volume','price','carat']],\n",
    "                     distr='probit')"
   ]
  },
  {
   "cell_type": "code",
   "execution_count": 33,
   "id": "c231180e",
   "metadata": {},
   "outputs": [
    {
     "name": "stdout",
     "output_type": "stream",
     "text": [
      "Optimization terminated successfully.\n",
      "         Current function value: 1.369122\n",
      "         Iterations: 29\n",
      "         Function evaluations: 35\n",
      "         Gradient evaluations: 35\n"
     ]
    },
    {
     "data": {
      "text/plain": [
       "<bound method GenericLikelihoodModelResults.summary of <statsmodels.miscmodels.ordinal_model.OrderedResults object at 0x000001B8621B4C10>>"
      ]
     },
     "execution_count": 33,
     "metadata": {},
     "output_type": "execute_result"
    }
   ],
   "source": [
    "\n",
    "res_prob=mod_prob.fit(method='bfgs')\n",
    "res_prob.summary"
   ]
  },
  {
   "cell_type": "code",
   "execution_count": 34,
   "id": "23d414d7",
   "metadata": {},
   "outputs": [
    {
     "name": "stdout",
     "output_type": "stream",
     "text": [
      "Optimization terminated successfully.\n",
      "         Current function value: 1.369215\n",
      "         Iterations: 36\n",
      "         Function evaluations: 42\n",
      "         Gradient evaluations: 42\n"
     ]
    },
    {
     "data": {
      "text/html": [
       "<table class=\"simpletable\">\n",
       "<caption>OrderedModel Results</caption>\n",
       "<tr>\n",
       "  <th>Dep. Variable:</th>            <td>cut</td>        <th>  Log-Likelihood:    </th> <td> -73855.</td> \n",
       "</tr>\n",
       "<tr>\n",
       "  <th>Model:</th>               <td>OrderedModel</td>    <th>  AIC:               </th> <td>1.477e+05</td>\n",
       "</tr>\n",
       "<tr>\n",
       "  <th>Method:</th>           <td>Maximum Likelihood</td> <th>  BIC:               </th> <td>1.478e+05</td>\n",
       "</tr>\n",
       "<tr>\n",
       "  <th>Date:</th>              <td>Thu, 26 Oct 2023</td>  <th>                     </th>     <td> </td>    \n",
       "</tr>\n",
       "<tr>\n",
       "  <th>Time:</th>                  <td>12:36:24</td>      <th>                     </th>     <td> </td>    \n",
       "</tr>\n",
       "<tr>\n",
       "  <th>No. Observations:</th>       <td> 53940</td>       <th>                     </th>     <td> </td>    \n",
       "</tr>\n",
       "<tr>\n",
       "  <th>Df Residuals:</th>           <td> 53933</td>       <th>                     </th>     <td> </td>    \n",
       "</tr>\n",
       "<tr>\n",
       "  <th>Df Model:</th>               <td>     7</td>       <th>                     </th>     <td> </td>    \n",
       "</tr>\n",
       "</table>\n",
       "<table class=\"simpletable\">\n",
       "<tr>\n",
       "          <td></td>             <th>coef</th>     <th>std err</th>      <th>z</th>      <th>P>|z|</th>  <th>[0.025</th>    <th>0.975]</th>  \n",
       "</tr>\n",
       "<tr>\n",
       "  <th>volume</th>            <td>    0.0104</td> <td>    0.002</td> <td>    5.875</td> <td> 0.000</td> <td>    0.007</td> <td>    0.014</td>\n",
       "</tr>\n",
       "<tr>\n",
       "  <th>price</th>             <td> 2.348e-05</td> <td> 5.31e-06</td> <td>    4.425</td> <td> 0.000</td> <td> 1.31e-05</td> <td> 3.39e-05</td>\n",
       "</tr>\n",
       "<tr>\n",
       "  <th>carat</th>             <td>   -1.5407</td> <td>    0.286</td> <td>   -5.394</td> <td> 0.000</td> <td>   -2.100</td> <td>   -0.981</td>\n",
       "</tr>\n",
       "<tr>\n",
       "  <th>Fair/Good</th>         <td>   -3.2836</td> <td>    0.031</td> <td> -105.758</td> <td> 0.000</td> <td>   -3.344</td> <td>   -3.223</td>\n",
       "</tr>\n",
       "<tr>\n",
       "  <th>Good/Ideal</th>        <td>    0.4038</td> <td>    0.015</td> <td>   27.062</td> <td> 0.000</td> <td>    0.375</td> <td>    0.433</td>\n",
       "</tr>\n",
       "<tr>\n",
       "  <th>Ideal/Very Good</th>   <td>    0.7301</td> <td>    0.006</td> <td>  116.508</td> <td> 0.000</td> <td>    0.718</td> <td>    0.742</td>\n",
       "</tr>\n",
       "<tr>\n",
       "  <th>Very Good/Premium</th> <td>   -0.0055</td> <td>    0.008</td> <td>   -0.653</td> <td> 0.514</td> <td>   -0.022</td> <td>    0.011</td>\n",
       "</tr>\n",
       "</table>"
      ],
      "text/plain": [
       "<class 'statsmodels.iolib.summary.Summary'>\n",
       "\"\"\"\n",
       "                             OrderedModel Results                             \n",
       "==============================================================================\n",
       "Dep. Variable:                    cut   Log-Likelihood:                -73855.\n",
       "Model:                   OrderedModel   AIC:                         1.477e+05\n",
       "Method:            Maximum Likelihood   BIC:                         1.478e+05\n",
       "Date:                Thu, 26 Oct 2023                                         \n",
       "Time:                        12:36:24                                         \n",
       "No. Observations:               53940                                         \n",
       "Df Residuals:                   53933                                         \n",
       "Df Model:                           7                                         \n",
       "=====================================================================================\n",
       "                        coef    std err          z      P>|z|      [0.025      0.975]\n",
       "-------------------------------------------------------------------------------------\n",
       "volume                0.0104      0.002      5.875      0.000       0.007       0.014\n",
       "price              2.348e-05   5.31e-06      4.425      0.000    1.31e-05    3.39e-05\n",
       "carat                -1.5407      0.286     -5.394      0.000      -2.100      -0.981\n",
       "Fair/Good            -3.2836      0.031   -105.758      0.000      -3.344      -3.223\n",
       "Good/Ideal            0.4038      0.015     27.062      0.000       0.375       0.433\n",
       "Ideal/Very Good       0.7301      0.006    116.508      0.000       0.718       0.742\n",
       "Very Good/Premium    -0.0055      0.008     -0.653      0.514      -0.022       0.011\n",
       "=====================================================================================\n",
       "\"\"\""
      ]
     },
     "execution_count": 34,
     "metadata": {},
     "output_type": "execute_result"
    }
   ],
   "source": [
    "mod_prob=OrderedModel(diamond['cut'],\n",
    "                     diamond[['volume','price','carat']],\n",
    "                     distr='logit')\n",
    "res_log=mod_prob.fit(method='bfgs')\n",
    "res_log.summary()"
   ]
  },
  {
   "cell_type": "code",
   "execution_count": 35,
   "id": "ecacd97b",
   "metadata": {},
   "outputs": [
    {
     "name": "stderr",
     "output_type": "stream",
     "text": [
      "C:\\ProgramData\\anaconda3\\Lib\\site-packages\\statsmodels\\miscmodels\\ordinal_model.py:419: FutureWarning: Support for multi-dimensional indexing (e.g. `obj[:, None]`) is deprecated and will be removed in a future version.  Convert to a numpy array before indexing instead.\n",
      "  xb = xb[:, None]\n"
     ]
    },
    {
     "data": {
      "text/plain": [
       "array([[0.03443606, 0.10308231, 0.42201809, 0.21495304, 0.2255105 ],\n",
       "       [0.03468862, 0.10372996, 0.42298246, 0.21440769, 0.22419127],\n",
       "       [0.03447851, 0.10319128, 0.42218114, 0.21486137, 0.2252877 ],\n",
       "       ...,\n",
       "       [0.03052062, 0.09285935, 0.40522189, 0.22335735, 0.2480408 ],\n",
       "       [0.02973833, 0.0907751 , 0.40141256, 0.22500614, 0.25306787],\n",
       "       [0.02970169, 0.09067712, 0.4012301 , 0.22508295, 0.25330815]])"
      ]
     },
     "execution_count": 35,
     "metadata": {},
     "output_type": "execute_result"
    }
   ],
   "source": [
    "predicted=res_log.model.predict(res_log.params,exog=diamond[['volume','price','carat']])\n",
    "predicted"
   ]
  },
  {
   "cell_type": "code",
   "execution_count": null,
   "id": "2786ca37",
   "metadata": {},
   "outputs": [],
   "source": []
  }
 ],
 "metadata": {
  "kernelspec": {
   "display_name": "Python 3 (ipykernel)",
   "language": "python",
   "name": "python3"
  },
  "language_info": {
   "codemirror_mode": {
    "name": "ipython",
    "version": 3
   },
   "file_extension": ".py",
   "mimetype": "text/x-python",
   "name": "python",
   "nbconvert_exporter": "python",
   "pygments_lexer": "ipython3",
   "version": "3.11.3"
  }
 },
 "nbformat": 4,
 "nbformat_minor": 5
}
